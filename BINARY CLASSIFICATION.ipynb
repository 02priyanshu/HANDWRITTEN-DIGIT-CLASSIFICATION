{
 "cells": [
  {
   "cell_type": "code",
   "execution_count": 1,
   "id": "b1633230-88cb-4b47-8eb3-5823fa7ddc96",
   "metadata": {},
   "outputs": [],
   "source": [
    "import os\n",
    "import numpy as np\n",
    "from PIL import Image\n",
    "import tensorflow as tf\n",
    "from sklearn.model_selection import train_test_split\n",
    "from tensorflow.keras import layers,models"
   ]
  },
  {
   "cell_type": "code",
   "execution_count": 2,
   "id": "936d971d-5dbc-4f06-907c-99e83a2ecb81",
   "metadata": {},
   "outputs": [],
   "source": [
    "image_size=(64,64)"
   ]
  },
  {
   "cell_type": "code",
   "execution_count": 3,
   "id": "33c1c4d7-9011-49e8-a20e-063e08dcd0af",
   "metadata": {},
   "outputs": [],
   "source": [
    "def load_images_from_folder(folder_path):\n",
    "    images=[]\n",
    "    labels=[]\n",
    "    for filename in os.listdir(folder_path):\n",
    "        image_path=os.path.join(folder_path,filename)\n",
    "        image=Image.open(image_path).resize(image_size)\n",
    "        image_array=np.array(image)/255.0\n",
    "        images.append(image_array)\n",
    "        labels.append(int(os.path.basename(folder_path)))\n",
    "    return np.array(images),np.array(labels)"
   ]
  },
  {
   "cell_type": "code",
   "execution_count": 4,
   "id": "06eef4d1-bfd4-4aad-a49d-fd3bbaa3fe20",
   "metadata": {},
   "outputs": [],
   "source": [
    "folder1_images, folder1_labels = load_images_from_folder(\"C:\\\\Users\\\\Priyanshul\\\\OneDrive\\\\Desktop\\\\Handwritten\\\\archive\\\\database\\\\0\")\n",
    "folder2_images, folder2_labels = load_images_from_folder(\"C:\\\\Users\\\\Priyanshul\\\\OneDrive\\\\Desktop\\\\Handwritten\\\\archive\\\\database\\\\1\")"
   ]
  },
  {
   "cell_type": "code",
   "execution_count": 5,
   "id": "064be9cb-a71a-4548-af1b-0d28ec507513",
   "metadata": {},
   "outputs": [
    {
     "data": {
      "text/plain": [
       "(3001, 64, 64, 3)"
      ]
     },
     "execution_count": 5,
     "metadata": {},
     "output_type": "execute_result"
    }
   ],
   "source": [
    "folder1_images.shape"
   ]
  },
  {
   "cell_type": "code",
   "execution_count": 6,
   "id": "f9d32443-aae6-406d-9fe0-6fe53b6b8537",
   "metadata": {},
   "outputs": [
    {
     "data": {
      "text/plain": [
       "(3001,)"
      ]
     },
     "execution_count": 6,
     "metadata": {},
     "output_type": "execute_result"
    }
   ],
   "source": [
    "folder2_labels.shape"
   ]
  },
  {
   "cell_type": "code",
   "execution_count": 7,
   "id": "3135ba25-c1bd-4a48-829f-2f3fdc0913f9",
   "metadata": {},
   "outputs": [],
   "source": [
    "images=np.concatenate((folder1_images,folder2_images),axis=0)\n",
    "labels=np.concatenate((folder1_labels,folder2_labels),axis=0)"
   ]
  },
  {
   "cell_type": "code",
   "execution_count": 8,
   "id": "085312d8-f175-4c75-bf56-63d473b7c0d3",
   "metadata": {},
   "outputs": [
    {
     "data": {
      "text/plain": [
       "(6002, 64, 64, 3)"
      ]
     },
     "execution_count": 8,
     "metadata": {},
     "output_type": "execute_result"
    }
   ],
   "source": [
    "images.shape"
   ]
  },
  {
   "cell_type": "code",
   "execution_count": 9,
   "id": "f4ebe6cb-a5b3-4200-b45f-456d685cb647",
   "metadata": {},
   "outputs": [
    {
     "data": {
      "text/plain": [
       "array([0, 0, 0, ..., 1, 1, 1])"
      ]
     },
     "execution_count": 9,
     "metadata": {},
     "output_type": "execute_result"
    }
   ],
   "source": [
    "labels"
   ]
  },
  {
   "cell_type": "code",
   "execution_count": 10,
   "id": "bb21b5d0-582b-4a72-8c64-02062fd753bb",
   "metadata": {},
   "outputs": [],
   "source": [
    "x_train,x_test,y_train,y_test=train_test_split(images,labels,test_size=0.2,random_state=42)"
   ]
  },
  {
   "cell_type": "code",
   "execution_count": 11,
   "id": "cd42efe6-6f1d-4eb5-ad44-ef86d1904bd3",
   "metadata": {},
   "outputs": [],
   "source": [
    "model=models.Sequential([\n",
    "    layers.Conv2D(32,(3,3),activation='relu',input_shape=(64,64,3)),\n",
    "    layers.MaxPooling2D((2,2)),\n",
    "    layers.Conv2D(64, (3, 3), activation='relu'),\n",
    "    layers.MaxPooling2D((2, 2)),\n",
    "    layers.Conv2D(64, (3, 3), activation='relu'),\n",
    "    layers.Flatten(),\n",
    "    layers.Dense(64, activation='relu'),\n",
    "    layers.Dense(1, activation='sigmoid')\n",
    "])"
   ]
  },
  {
   "cell_type": "code",
   "execution_count": 12,
   "id": "909691fb-ed17-4b5f-9cd7-3b0a8f31ddfa",
   "metadata": {},
   "outputs": [],
   "source": [
    "model.compile(optimizer='adam',\n",
    "              loss='binary_crossentropy',\n",
    "              metrics=['accuracy'])"
   ]
  },
  {
   "cell_type": "code",
   "execution_count": 13,
   "id": "6f1b5cdd-2530-4920-92cb-e579d4341a23",
   "metadata": {},
   "outputs": [
    {
     "name": "stdout",
     "output_type": "stream",
     "text": [
      "Epoch 1/10\n",
      "151/151 [==============================] - 24s 139ms/step - loss: 0.1049 - accuracy: 0.9369 - val_loss: 0.0640 - val_accuracy: 0.9767\n",
      "Epoch 2/10\n",
      "151/151 [==============================] - 21s 141ms/step - loss: 0.0136 - accuracy: 0.9960 - val_loss: 0.0022 - val_accuracy: 1.0000\n",
      "Epoch 3/10\n",
      "151/151 [==============================] - 21s 137ms/step - loss: 0.0099 - accuracy: 0.9975 - val_loss: 0.0078 - val_accuracy: 0.9975\n",
      "Epoch 4/10\n",
      "151/151 [==============================] - 21s 136ms/step - loss: 0.0074 - accuracy: 0.9975 - val_loss: 0.0028 - val_accuracy: 0.9992\n",
      "Epoch 5/10\n",
      "151/151 [==============================] - 21s 136ms/step - loss: 4.8749e-04 - accuracy: 1.0000 - val_loss: 1.3924e-04 - val_accuracy: 1.0000\n",
      "Epoch 6/10\n",
      "151/151 [==============================] - 21s 138ms/step - loss: 2.4193e-04 - accuracy: 1.0000 - val_loss: 5.7068e-05 - val_accuracy: 1.0000\n",
      "Epoch 7/10\n",
      "151/151 [==============================] - 21s 137ms/step - loss: 4.3391e-05 - accuracy: 1.0000 - val_loss: 3.0281e-05 - val_accuracy: 1.0000\n",
      "Epoch 8/10\n",
      "151/151 [==============================] - 21s 136ms/step - loss: 2.8500e-05 - accuracy: 1.0000 - val_loss: 2.5992e-05 - val_accuracy: 1.0000\n",
      "Epoch 9/10\n",
      "151/151 [==============================] - 21s 136ms/step - loss: 2.0766e-05 - accuracy: 1.0000 - val_loss: 1.9044e-05 - val_accuracy: 1.0000\n",
      "Epoch 10/10\n",
      "151/151 [==============================] - 20s 136ms/step - loss: 1.6211e-05 - accuracy: 1.0000 - val_loss: 2.2585e-05 - val_accuracy: 1.0000\n"
     ]
    },
    {
     "data": {
      "text/plain": [
       "<keras.src.callbacks.History at 0x22fc1a3a430>"
      ]
     },
     "execution_count": 13,
     "metadata": {},
     "output_type": "execute_result"
    }
   ],
   "source": [
    "model.fit(x_train, y_train, epochs=10, batch_size=32, validation_data=(x_test, y_test))"
   ]
  },
  {
   "cell_type": "code",
   "execution_count": 14,
   "id": "ba634ae4-fa40-4631-8928-987d309ab1e0",
   "metadata": {},
   "outputs": [
    {
     "name": "stdout",
     "output_type": "stream",
     "text": [
      "38/38 [==============================] - 2s 42ms/step - loss: 2.2585e-05 - accuracy: 1.0000\n",
      "Test accuracy: 1.0\n"
     ]
    }
   ],
   "source": [
    "test_loss, test_acc = model.evaluate(x_test, y_test)\n",
    "print('Test accuracy:', test_acc)"
   ]
  },
  {
   "cell_type": "code",
   "execution_count": 17,
   "id": "d33dfa4b-b018-4759-99ba-c0936acd7c8f",
   "metadata": {},
   "outputs": [
    {
     "name": "stdout",
     "output_type": "stream",
     "text": [
      "1/1 [==============================] - 0s 72ms/step\n",
      "Predicted class: 0\n"
     ]
    }
   ],
   "source": [
    "image_to_predict = Image.open(\"C:\\\\Users\\Priyanshul\\\\OneDrive\\\\Desktop\\\\Handwritten\\\\archive\\\\database\\\\0\\\\train_30_00096.png\").resize((64, 64))\n",
    "image_to_predict = np.array(image_to_predict) / 255.0  # Normalize pixel values to range [0, 1]\n",
    "\n",
    "\n",
    "prediction = model.predict(np.expand_dims(image_to_predict, axis=0))\n",
    "\n",
    "\n",
    "predicted_class = np.argmax(prediction)\n",
    "\n",
    "\n",
    "print(\"Predicted class:\", predicted_class)"
   ]
  }
 ],
 "metadata": {
  "kernelspec": {
   "display_name": "Python 3 (ipykernel)",
   "language": "python",
   "name": "python3"
  },
  "language_info": {
   "codemirror_mode": {
    "name": "ipython",
    "version": 3
   },
   "file_extension": ".py",
   "mimetype": "text/x-python",
   "name": "python",
   "nbconvert_exporter": "python",
   "pygments_lexer": "ipython3",
   "version": "3.8.0"
  }
 },
 "nbformat": 4,
 "nbformat_minor": 5
}
